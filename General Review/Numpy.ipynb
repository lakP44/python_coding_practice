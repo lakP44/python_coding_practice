{
 "cells": [
  {
   "cell_type": "code",
   "execution_count": 2,
   "metadata": {},
   "outputs": [],
   "source": [
    "import numpy as np"
   ]
  },
  {
   "cell_type": "code",
   "execution_count": 3,
   "metadata": {},
   "outputs": [],
   "source": [
    "a = [0, 1, 2, 3, 4, 5]"
   ]
  },
  {
   "cell_type": "code",
   "execution_count": 4,
   "metadata": {},
   "outputs": [
    {
     "name": "stdout",
     "output_type": "stream",
     "text": [
      "int32 || 1 || (6,)\n"
     ]
    }
   ],
   "source": [
    "b = np.array(a) # array로 변경\n",
    "print(b.dtype, '||', b.ndim, '||', b.shape)"
   ]
  },
  {
   "cell_type": "code",
   "execution_count": 58,
   "metadata": {},
   "outputs": [
    {
     "name": "stdout",
     "output_type": "stream",
     "text": [
      "5\n",
      "~~~~~~~~~~~~~~~~~~~~~~~~~~~~~~~~~~~~~~~~~~~~~~~~~~~~~~~~~~~~\n",
      "[[0 0]\n",
      " [0 0]\n",
      " [1 1]]\n",
      "~~~~~~~~~~~~~~~~~~~~~~~~~~~~~~~~~~~~~~~~~~~~~~~~~~~~~~~~~~~~\n",
      "[[0 1]\n",
      " [2 3]\n",
      " [1 1]]\n",
      "~~~~~~~~~~~~~~~~~~~~~~~~~~~~~~~~~~~~~~~~~~~~~~~~~~~~~~~~~~~~\n",
      "[1, 3, 5, 7, 9]\n",
      "~~~~~~~~~~~~~~~~~~~~~~~~~~~~~~~~~~~~~~~~~~~~~~~~~~~~~~~~~~~~\n",
      "[ 1.  2.  3.  4.  5.  6.  7.  8.  9. 10.]\n",
      "[ 1.          1.47368421  1.94736842  2.42105263  2.89473684  3.36842105\n",
      "  3.84210526  4.31578947  4.78947368  5.26315789  5.73684211  6.21052632\n",
      "  6.68421053  7.15789474  7.63157895  8.10526316  8.57894737  9.05263158\n",
      "  9.52631579 10.        ]\n",
      "~~~~~~~~~~~~~~~~~~~~~~~~~~~~~~~~~~~~~~~~~~~~~~~~~~~~~~~~~~~~\n"
     ]
    }
   ],
   "source": [
    "# 제일 중요한거 먼저\n",
    "\n",
    "print(np.argmax(b)) # 최댓값의 인덱스 위치\n",
    "\n",
    "print('~~'*30)\n",
    "\n",
    "print(np.where( b > 3, 1, 0)) # (조건, 참 값, 거짓 값)\n",
    "\n",
    "print('~~'*30)\n",
    "\n",
    "print(np.where(b > 3, 1, b)) # (조건, 참이면 1, 거짓이면 그대로)\n",
    "\n",
    "print('~~'*30)\n",
    "\n",
    "print(list(range(1, 10 ,2))) # 2씩 증가, 범위 1 <= x < 10\n",
    "\n",
    "print('~~'*30)\n",
    "\n",
    "print(np.linspace(1, 10, 10)) # 범위 1 <= x < 10, 요소의 개수 10\n",
    "print(np.linspace(1, 10, 20))\n",
    "print('~~'*30)"
   ]
  },
  {
   "cell_type": "code",
   "execution_count": 20,
   "metadata": {},
   "outputs": [
    {
     "name": "stdout",
     "output_type": "stream",
     "text": [
      "[[0 1]\n",
      " [2 3]\n",
      " [4 5]]\n",
      "~~~~~~~~~~~~~~~~~~~~~~~~~~~~~~~~~~~~~~~~~~~~~~~~~~~~~~~~~~~~\n",
      "1\n",
      "[[0 1]\n",
      " [2 3]]\n",
      "~~~~~~~~~~~~~~~~~~~~~~~~~~~~~~~~~~~~~~~~~~~~~~~~~~~~~~~~~~~~\n",
      "[0 3]\n",
      "~~~~~~~~~~~~~~~~~~~~~~~~~~~~~~~~~~~~~~~~~~~~~~~~~~~~~~~~~~~~\n",
      "[[2 3]\n",
      " [4 5]]\n",
      "~~~~~~~~~~~~~~~~~~~~~~~~~~~~~~~~~~~~~~~~~~~~~~~~~~~~~~~~~~~~\n",
      "[[2 3]\n",
      " [4 5]]\n"
     ]
    }
   ],
   "source": [
    "b = b.reshape(3, 2) # 3행 2열로 변경\n",
    "print(b)\n",
    "\n",
    "print('~~'*30)\n",
    "\n",
    "print(b[0,1]) # 첫번째 행, 두 번째 열 요소 조회\n",
    "print(b[[0,1]]) # 1, 2행 조회\n",
    "\n",
    "print('~~'*30)\n",
    "\n",
    "print(b[[0,1], [0, 1]]) # 1행 1열, 2행 2열 요소 조회\n",
    "# 특이한 점은 각 리스트의 앞 숫자, 뒷 숫자끼리 묶인다는 거임, 리스트끼리 묶이는게 아님\n",
    "\n",
    "print('~~'*30)\n",
    "\n",
    "print(b[1:3, 0:3] ) # 2~3행,  1~3열\n",
    "\n",
    "print('~~'*30)\n",
    "\n",
    "print(b[1:, 0:2]) # 2~행, 1~3열"
   ]
  },
  {
   "cell_type": "code",
   "execution_count": 29,
   "metadata": {},
   "outputs": [
    {
     "name": "stdout",
     "output_type": "stream",
     "text": [
      "[3 4 5]\n",
      "~~~~~~~~~~~~~~~~~~~~~~~~~~~~~~~~~~~~~~~~~~~~~~~~~~~~~~~~~~~~\n",
      "[3]\n"
     ]
    }
   ],
   "source": [
    "print(b[b > 2]) # 2초과 요소 조회\n",
    "\n",
    "print('~~'*30)\n",
    "\n",
    "print(b[(b > 2) & (b < 4)]) # 2초과 4미만 요소 조회"
   ]
  },
  {
   "cell_type": "code",
   "execution_count": 45,
   "metadata": {},
   "outputs": [
    {
     "name": "stdout",
     "output_type": "stream",
     "text": [
      "[[12 15 18 21]\n",
      " [48 51 54 57]]\n"
     ]
    }
   ],
   "source": [
    "c = ([[[ 0,  1,  2,  3], \n",
    "       [ 4,  5,  6,  7], \n",
    "       [ 8,  9, 10, 11]], \n",
    "      \n",
    "      [[12, 13, 14, 15], \n",
    "       [16, 17, 18, 19], \n",
    "       [20, 21, 22, 23]]])\n",
    "c\n",
    "print(np.sum(c, axis = 1))\n"
   ]
  },
  {
   "cell_type": "code",
   "execution_count": 47,
   "metadata": {},
   "outputs": [
    {
     "name": "stdout",
     "output_type": "stream",
     "text": [
      "[[0 1]\n",
      " [2 3]\n",
      " [4 5]]\n",
      "~~~~~~~~~~~~~~~~~~~~~~~~~~~~~~~~~~~~~~~~~~~~~~~~~~~~~~~~~~~~\n",
      "[6 9]\n",
      "~~~~~~~~~~~~~~~~~~~~~~~~~~~~~~~~~~~~~~~~~~~~~~~~~~~~~~~~~~~~\n",
      "[4 5]\n",
      "~~~~~~~~~~~~~~~~~~~~~~~~~~~~~~~~~~~~~~~~~~~~~~~~~~~~~~~~~~~~\n",
      "[0 1]\n",
      "~~~~~~~~~~~~~~~~~~~~~~~~~~~~~~~~~~~~~~~~~~~~~~~~~~~~~~~~~~~~\n",
      "[1.63299316 1.63299316]\n",
      "~~~~~~~~~~~~~~~~~~~~~~~~~~~~~~~~~~~~~~~~~~~~~~~~~~~~~~~~~~~~\n",
      "[2. 3.]\n"
     ]
    }
   ],
   "source": [
    "print(b)\n",
    "print('~~'*30)\n",
    "print(np.sum(b, axis = 0)) # 열기준 집계, 일반적인 1차원 행열 방식이 아님 (2차원이기 때문)\n",
    "# ex) [[[1,2],[3,4]] , [[5,6],[7,8]]] 이러한 4차원 배열에서\n",
    "\n",
    "# axis = 0 --> [[1,2],[3,4]] -> [[5,6],[7,8]]\n",
    "# axis = 1 --> [1,2] -> [3,4] 또는 [5,6] -> [7,8]\n",
    "# axis = 2 --> 1->2 또는 3->4 또는 5->6 또는 7->8\n",
    "\n",
    "print('~~'*30)\n",
    "print(np.max(b, axis = 0))\n",
    "print('~~'*30)\n",
    "print(np.min(b, axis = 0))\n",
    "print('~~'*30)\n",
    "print(np.std(b, axis = 0))\n",
    "print('~~'*30)\n",
    "print(np.mean(b, axis = 0))"
   ]
  },
  {
   "cell_type": "code",
   "execution_count": null,
   "metadata": {},
   "outputs": [],
   "source": []
  }
 ],
 "metadata": {
  "kernelspec": {
   "display_name": "Python 3.9.12 ('base')",
   "language": "python",
   "name": "python3"
  },
  "language_info": {
   "codemirror_mode": {
    "name": "ipython",
    "version": 3
   },
   "file_extension": ".py",
   "mimetype": "text/x-python",
   "name": "python",
   "nbconvert_exporter": "python",
   "pygments_lexer": "ipython3",
   "version": "3.9.12"
  },
  "orig_nbformat": 4,
  "vscode": {
   "interpreter": {
    "hash": "964f46f3973c3d99dc6929d5bd1748275317def86f082ea2874e0d5a9cf6d261"
   }
  }
 },
 "nbformat": 4,
 "nbformat_minor": 2
}
