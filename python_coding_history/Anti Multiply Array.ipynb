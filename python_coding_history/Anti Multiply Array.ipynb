{
 "cells": [
  {
   "cell_type": "code",
   "execution_count": 90,
   "metadata": {},
   "outputs": [
    {
     "name": "stdout",
     "output_type": "stream",
     "text": [
      "[('1',), ('2',), ('3',), ('6',)]\n"
     ]
    },
    {
     "ename": "IndexError",
     "evalue": "list index out of range",
     "output_type": "error",
     "traceback": [
      "\u001b[1;31m---------------------------------------------------------------------------\u001b[0m",
      "\u001b[1;31mIndexError\u001b[0m                                Traceback (most recent call last)",
      "\u001b[1;32mUntitled-1.ipynb 셀 1\u001b[0m in \u001b[0;36m<cell line: 8>\u001b[1;34m()\u001b[0m\n\u001b[0;32m      <a href='vscode-notebook-cell:Untitled-1.ipynb?jupyter-notebook#W0sdW50aXRsZWQ%3D?line=7'>8</a>\u001b[0m \u001b[39mfor\u001b[39;00m i \u001b[39min\u001b[39;00m \u001b[39mrange\u001b[39m (\u001b[39mlen\u001b[39m(a2)\u001b[39m-\u001b[39m\u001b[39m2\u001b[39m):\n\u001b[0;32m      <a href='vscode-notebook-cell:Untitled-1.ipynb?jupyter-notebook#W0sdW50aXRsZWQ%3D?line=8'>9</a>\u001b[0m     a3 \u001b[39m=\u001b[39m \u001b[39mlist\u001b[39m(a2[i])\n\u001b[1;32m---> <a href='vscode-notebook-cell:Untitled-1.ipynb?jupyter-notebook#W0sdW50aXRsZWQ%3D?line=9'>10</a>\u001b[0m     a4 \u001b[39m=\u001b[39m \u001b[39mint\u001b[39m(a3[\u001b[39m0\u001b[39m])\u001b[39m*\u001b[39m\u001b[39mint\u001b[39m(a3[\u001b[39m1\u001b[39;49m])\n\u001b[0;32m     <a href='vscode-notebook-cell:Untitled-1.ipynb?jupyter-notebook#W0sdW50aXRsZWQ%3D?line=10'>11</a>\u001b[0m     \u001b[39mprint\u001b[39m(a3)\n\u001b[0;32m     <a href='vscode-notebook-cell:Untitled-1.ipynb?jupyter-notebook#W0sdW50aXRsZWQ%3D?line=11'>12</a>\u001b[0m     \u001b[39mif\u001b[39;00m cnt \u001b[39m==\u001b[39m \u001b[39m1\u001b[39m:\n",
      "\u001b[1;31mIndexError\u001b[0m: list index out of range"
     ]
    }
   ],
   "source": [
    "from itertools import *\n",
    "cnt = 0\n",
    "a = int(input())\n",
    "a1 = list(map(str, input().split()))\n",
    "a2 = list(combinations(a1, 1))\n",
    "ans = 'NO'\n",
    "print(a2)\n",
    "for i in range (len(a2)-2):\n",
    "    a3 = list(a2[i])\n",
    "    a4 = int(a3[0])*int(a3[1])\n",
    "    print(a3)\n",
    "    if cnt == 1:\n",
    "        break\n",
    "    a4 = int(a3[0])*int(a3[1])\n",
    "    for r in range (i+1, len(a2)):\n",
    "        a3_1 = list(a2[r])\n",
    "        print('-', a3_1)\n",
    "        a5 = int(a3_1[0])*int(a3_1[1])\n",
    "        print('$', a4)\n",
    "        print('&', a5)\n",
    "        if a4 == a5:\n",
    "            ans = 'YES'\n",
    "            cnt += 1\n",
    "            break\n",
    "print(ans)"
   ]
  }
 ],
 "metadata": {
  "kernelspec": {
   "display_name": "Python 3.9.12 ('base')",
   "language": "python",
   "name": "python3"
  },
  "language_info": {
   "codemirror_mode": {
    "name": "ipython",
    "version": 3
   },
   "file_extension": ".py",
   "mimetype": "text/x-python",
   "name": "python",
   "nbconvert_exporter": "python",
   "pygments_lexer": "ipython3",
   "version": "3.9.12"
  },
  "orig_nbformat": 4,
  "vscode": {
   "interpreter": {
    "hash": "964f46f3973c3d99dc6929d5bd1748275317def86f082ea2874e0d5a9cf6d261"
   }
  }
 },
 "nbformat": 4,
 "nbformat_minor": 2
}
