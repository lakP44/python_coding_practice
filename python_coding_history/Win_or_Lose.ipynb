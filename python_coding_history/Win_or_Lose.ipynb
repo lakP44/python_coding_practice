{
 "cells": [
  {
   "cell_type": "code",
   "execution_count": 28,
   "id": "40a8ba3d",
   "metadata": {},
   "outputs": [
    {
     "name": "stdout",
     "output_type": "stream",
     "text": [
      "3\n",
      "WIN\n",
      "WIN\n",
      "LOSE\n",
      "LOSE 3 0 2\n"
     ]
    }
   ],
   "source": [
    "cnt = int(input())\n",
    "win = 0\n",
    "lose = 0\n",
    "score = str(input())\n",
    "if score == 'WIN':\n",
    "    pre_score = 'WIN'\n",
    "    win += 1\n",
    "    if cnt == 1:\n",
    "        win = 1\n",
    "        print(score, a, win, lose)\n",
    "if score == 'LOSE':\n",
    "    pre_secore = 'LOSE'\n",
    "    lose += 1\n",
    "    if cnt == 1:\n",
    "        lose = 1\n",
    "        print(score, cnt, win, lose)\n",
    "for a in range (cnt - 1):\n",
    "    score = str(input())\n",
    "    if (score == 'WIN') & (pre_score == 'WIN') :\n",
    "        pre_score = 'WIN'\n",
    "        win += 1\n",
    "    if (score == 'WIN') & (pre_score == 'LOSE') :\n",
    "        pre_score = 'LOSE'\n",
    "        lose = 0\n",
    "        win += 1\n",
    "    if (score == 'LOSE') & (pre_score == 'WIN') :\n",
    "        pre_score = 'LOSE'\n",
    "        win = 0\n",
    "        lose += 1\n",
    "    if (score == 'LOSE') & (pre_score == 'LOSE') :\n",
    "        pre_score = 'LOSE'\n",
    "        lose += 1\n",
    "print(score, cnt, win, lose)"
   ]
  }
 ],
 "metadata": {
  "kernelspec": {
   "display_name": "Python 3.9.12 ('base')",
   "language": "python",
   "name": "python3"
  },
  "language_info": {
   "codemirror_mode": {
    "name": "ipython",
    "version": 3
   },
   "file_extension": ".py",
   "mimetype": "text/x-python",
   "name": "python",
   "nbconvert_exporter": "python",
   "pygments_lexer": "ipython3",
   "version": "3.9.12"
  },
  "vscode": {
   "interpreter": {
    "hash": "964f46f3973c3d99dc6929d5bd1748275317def86f082ea2874e0d5a9cf6d261"
   }
  }
 },
 "nbformat": 4,
 "nbformat_minor": 5
}
