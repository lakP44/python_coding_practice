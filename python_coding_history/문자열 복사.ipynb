{
 "cells": [
  {
   "cell_type": "code",
   "execution_count": 92,
   "metadata": {},
   "outputs": [
    {
     "name": "stdout",
     "output_type": "stream",
     "text": [
      "[1, 1, 1]\n",
      "[4, 6, 8]\n",
      "3\n"
     ]
    }
   ],
   "source": [
    "import numpy as np\n",
    "\n",
    "string = input()\n",
    "string2 = input()\n",
    "\n",
    "dic = {}\n",
    "dic2 = {}\n",
    "answer = []\n",
    "cnt = 0\n",
    "i = 0\n",
    "\n",
    "for chr in string:\n",
    "    if chr in dic:\n",
    "        dic[chr] += 1\n",
    "    else :\n",
    "        dic[chr]= 1\n",
    "\n",
    "for chr2 in string2:\n",
    "    if chr2 in dic2:\n",
    "        dic2[chr2] += 1\n",
    "    else :\n",
    "        dic2[chr2]= 1\n",
    "dic_list = list(dic.values())\n",
    "dic_list2 = list(dic2.values())\n",
    "print(dic_list)\n",
    "print(dic_list2)\n",
    "while True:\n",
    "    if dic_list[i] < dic_list2[i]:\n",
    "        dic_list[i] = dic_list[i]*2\n",
    "        cnt += 1\n",
    "    else:\n",
    "        answer.append(cnt)\n",
    "        i += 1\n",
    "        cnt = 0\n",
    "    if i == len(dic_list):\n",
    "        break\n",
    "\n",
    "print(np.max(answer))\n",
    "\n"
   ]
  },
  {
   "cell_type": "code",
   "execution_count": null,
   "metadata": {},
   "outputs": [],
   "source": [
    "_"
   ]
  }
 ],
 "metadata": {
  "kernelspec": {
   "display_name": "Python 3.9.12 ('base')",
   "language": "python",
   "name": "python3"
  },
  "language_info": {
   "codemirror_mode": {
    "name": "ipython",
    "version": 3
   },
   "file_extension": ".py",
   "mimetype": "text/x-python",
   "name": "python",
   "nbconvert_exporter": "python",
   "pygments_lexer": "ipython3",
   "version": "3.9.12"
  },
  "orig_nbformat": 4,
  "vscode": {
   "interpreter": {
    "hash": "964f46f3973c3d99dc6929d5bd1748275317def86f082ea2874e0d5a9cf6d261"
   }
  }
 },
 "nbformat": 4,
 "nbformat_minor": 2
}
