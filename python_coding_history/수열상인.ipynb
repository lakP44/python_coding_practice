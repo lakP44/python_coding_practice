{
 "cells": [
  {
   "cell_type": "code",
   "execution_count": 28,
   "metadata": {},
   "outputs": [
    {
     "name": "stdout",
     "output_type": "stream",
     "text": [
      "[['4', '9', '7'], ['9', '7', '6'], ['7', '6', '9']]\n",
      "7.0\n",
      "7.0\n",
      "7.0\n",
      "7\n"
     ]
    }
   ],
   "source": [
    "import numpy as np\n",
    "from itertools import *\n",
    "a = int(input())\n",
    "b1 = []\n",
    "c = []\n",
    "b = list(map(str, input().split()))\n",
    "for n in range (len(b)-2):\n",
    "    b1.append(b[n:n+3])\n",
    "\n",
    "for i in range(len(b1)):\n",
    "    c1 = np.array(b1[i])\n",
    "    c2 = np.median(c1.astype(np.int64))\n",
    "\n",
    "    c.append(c2)\n",
    "print(int(np.max(c)))"
   ]
  },
  {
   "cell_type": "code",
   "execution_count": null,
   "metadata": {},
   "outputs": [],
   "source": []
  }
 ],
 "metadata": {
  "kernelspec": {
   "display_name": "Python 3.9.12 ('base')",
   "language": "python",
   "name": "python3"
  },
  "language_info": {
   "codemirror_mode": {
    "name": "ipython",
    "version": 3
   },
   "file_extension": ".py",
   "mimetype": "text/x-python",
   "name": "python",
   "nbconvert_exporter": "python",
   "pygments_lexer": "ipython3",
   "version": "3.9.12"
  },
  "orig_nbformat": 4,
  "vscode": {
   "interpreter": {
    "hash": "964f46f3973c3d99dc6929d5bd1748275317def86f082ea2874e0d5a9cf6d261"
   }
  }
 },
 "nbformat": 4,
 "nbformat_minor": 2
}
