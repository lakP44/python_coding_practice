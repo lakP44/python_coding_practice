{
 "cells": [
  {
   "cell_type": "code",
   "execution_count": null,
   "metadata": {},
   "outputs": [],
   "source": [
    "import datetime\n",
    "c = int(input())\n",
    "x = datetime.datetime(2020, 10, 2, 12, 0, 0)\n",
    "if c >= 60:\n",
    "    then = datetime.datetime(2020, 10, 2, 0, c//60, c%60)\n",
    "else:\n",
    "    then = datetime.datetime(2020, 10, 2, 0, 0, c)\n",
    "print(x-then)"
   ]
  },
  {
   "cell_type": "code",
   "execution_count": 6,
   "metadata": {},
   "outputs": [
    {
     "ename": "TypeError",
     "evalue": "unsupported operand type(s) for +: 'datetime.datetime' and 'datetime.datetime'",
     "output_type": "error",
     "traceback": [
      "\u001b[1;31m---------------------------------------------------------------------------\u001b[0m",
      "\u001b[1;31mTypeError\u001b[0m                                 Traceback (most recent call last)",
      "\u001b[1;32mc:\\Users\\lak50\\Desktop\\aivle\\python_coding_history\\시간 데이터 다루는법.ipynb 셀 2\u001b[0m in \u001b[0;36m<cell line: 11>\u001b[1;34m()\u001b[0m\n\u001b[0;32m      <a href='vscode-notebook-cell:/c%3A/Users/lak50/Desktop/aivle/python_coding_history/%EC%8B%9C%EA%B0%84%20%EB%8D%B0%EC%9D%B4%ED%84%B0%20%EB%8B%A4%EB%A3%A8%EB%8A%94%EB%B2%95.ipynb#W1sZmlsZQ%3D%3D?line=8'>9</a>\u001b[0m     sn \u001b[39m=\u001b[39m s\u001b[39m*\u001b[39mn\n\u001b[0;32m     <a href='vscode-notebook-cell:/c%3A/Users/lak50/Desktop/aivle/python_coding_history/%EC%8B%9C%EA%B0%84%20%EB%8D%B0%EC%9D%B4%ED%84%B0%20%EB%8B%A4%EB%A3%A8%EB%8A%94%EB%B2%95.ipynb#W1sZmlsZQ%3D%3D?line=9'>10</a>\u001b[0m     then \u001b[39m=\u001b[39m datetime\u001b[39m.\u001b[39mdatetime(\u001b[39m2020\u001b[39m, \u001b[39m10\u001b[39m, \u001b[39m2\u001b[39m, \u001b[39m0\u001b[39m, \u001b[39m0\u001b[39m, sn)\n\u001b[1;32m---> <a href='vscode-notebook-cell:/c%3A/Users/lak50/Desktop/aivle/python_coding_history/%EC%8B%9C%EA%B0%84%20%EB%8D%B0%EC%9D%B4%ED%84%B0%20%EB%8B%A4%EB%A3%A8%EB%8A%94%EB%B2%95.ipynb#W1sZmlsZQ%3D%3D?line=10'>11</a>\u001b[0m xt \u001b[39m=\u001b[39m x \u001b[39m+\u001b[39;49m then\n\u001b[0;32m     <a href='vscode-notebook-cell:/c%3A/Users/lak50/Desktop/aivle/python_coding_history/%EC%8B%9C%EA%B0%84%20%EB%8D%B0%EC%9D%B4%ED%84%B0%20%EB%8B%A4%EB%A3%A8%EB%8A%94%EB%B2%95.ipynb#W1sZmlsZQ%3D%3D?line=11'>12</a>\u001b[0m \u001b[39mprint\u001b[39m(xt)\n",
      "\u001b[1;31mTypeError\u001b[0m: unsupported operand type(s) for +: 'datetime.datetime' and 'datetime.datetime'"
     ]
    }
   ],
   "source": [
    "import datetime\n",
    "c1, c2, c3 = map(int, input().split(':'))\n",
    "s = int(input())\n",
    "n = int(input())\n",
    "x = datetime.datetime(2020, 10, 2, c1, c2, c3)\n",
    "if s >= 60:\n",
    "    then = datetime.datetime(2020, 10, 2, 0, s//60, s%60)\n",
    "else:\n",
    "    sn = s*n\n",
    "    then = datetime.datetime(2020, 10, 2, 0, 0, sn)\n",
    "xt = x + then\n",
    "print(xt)"
   ]
  }
 ],
 "metadata": {
  "kernelspec": {
   "display_name": "Python 3.9.12 ('base')",
   "language": "python",
   "name": "python3"
  },
  "language_info": {
   "codemirror_mode": {
    "name": "ipython",
    "version": 3
   },
   "file_extension": ".py",
   "mimetype": "text/x-python",
   "name": "python",
   "nbconvert_exporter": "python",
   "pygments_lexer": "ipython3",
   "version": "3.9.12"
  },
  "orig_nbformat": 4,
  "vscode": {
   "interpreter": {
    "hash": "964f46f3973c3d99dc6929d5bd1748275317def86f082ea2874e0d5a9cf6d261"
   }
  }
 },
 "nbformat": 4,
 "nbformat_minor": 2
}
