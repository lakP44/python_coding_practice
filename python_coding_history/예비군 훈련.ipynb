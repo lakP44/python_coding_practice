{
 "cells": [
  {
   "cell_type": "code",
   "execution_count": 16,
   "metadata": {},
   "outputs": [
    {
     "ename": "SyntaxError",
     "evalue": "invalid syntax (813212861.py, line 6)",
     "output_type": "error",
     "traceback": [
      "\u001b[1;36m  Input \u001b[1;32mIn [16]\u001b[1;36m\u001b[0m\n\u001b[1;33m    if (d == 'Private')\u001b[0m\n\u001b[1;37m                       ^\u001b[0m\n\u001b[1;31mSyntaxError\u001b[0m\u001b[1;31m:\u001b[0m invalid syntax\n"
     ]
    }
   ],
   "source": [
    "a, b, c, d = map(str, input().split())\n",
    "a = int(a)\n",
    "if a == 0:\n",
    "    print(0)\n",
    "elif a <= 4:\n",
    "    if d == 'Private':\n",
    "        if (c == 'N') & (b == 'ROKA'):\n",
    "            print(32)\n",
    "        elif (c == 'N') & (b == 'ROKN'):\n",
    "            print(32)\n",
    "        elif (c == 'Y'):\n",
    "            print(28)\n",
    "        elif (c == 'N') & (b == 'ROKAF'):\n",
    "            print(28)\n",
    "elif d == 'Officer':\n",
    "    print(28)\n",
    "else:\n",
    "    print(20)\n"
   ]
  },
  {
   "cell_type": "markdown",
   "metadata": {},
   "source": [
    "## ROKA육, ROKN해, ROKAF공\n",
    "\n",
    "- 0 ROKA, ROKN, ROKAF N Private = 0\n",
    "- 1~4 ROKA, ROKN N Private = 32\n",
    "- 1~4 ROKA, ROKN, ROKAF Y Private이랑 1~4 ROKAF N Private = 28\n",
    "- 5~6 ROKA, ROKN, ROKAF Y Private = 20\n",
    "- 0 ROKA, ROKN, ROKAF N Officer = 0\n",
    "- 1~6 ROKA, ROKN, ROKAF N Officer = 28\n",
    "- 1~6 ROKA, ROKN, ROKAF Y Officer = 28"
   ]
  }
 ],
 "metadata": {
  "kernelspec": {
   "display_name": "Python 3.9.12 ('base')",
   "language": "python",
   "name": "python3"
  },
  "language_info": {
   "codemirror_mode": {
    "name": "ipython",
    "version": 3
   },
   "file_extension": ".py",
   "mimetype": "text/x-python",
   "name": "python",
   "nbconvert_exporter": "python",
   "pygments_lexer": "ipython3",
   "version": "3.9.12"
  },
  "orig_nbformat": 4,
  "vscode": {
   "interpreter": {
    "hash": "964f46f3973c3d99dc6929d5bd1748275317def86f082ea2874e0d5a9cf6d261"
   }
  }
 },
 "nbformat": 4,
 "nbformat_minor": 2
}
