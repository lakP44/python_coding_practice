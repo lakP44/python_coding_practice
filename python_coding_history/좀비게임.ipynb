{
 "cells": [
  {
   "cell_type": "code",
   "execution_count": 5,
   "metadata": {},
   "outputs": [
    {
     "name": "stdout",
     "output_type": "stream",
     "text": [
      "4\n"
     ]
    }
   ],
   "source": [
    "n, s = map(int, input().split())\n",
    "tn = int(input())\n",
    "sl = [s]\n",
    "c = 1\n",
    "for i in range (tn):\n",
    "    a, b = map(int, input().split())\n",
    "    if (a in sl) & (b in sl):\n",
    "        c = c\n",
    "    elif (a in sl) or (b in sl):\n",
    "        c += 1\n",
    "        if a not in sl:\n",
    "            sl.append(a)\n",
    "        if b not in sl:\n",
    "            sl.append(b)\n",
    "    else:\n",
    "        c = c\n",
    "print(c)"
   ]
  }
 ],
 "metadata": {
  "kernelspec": {
   "display_name": "Python 3.9.12 ('base')",
   "language": "python",
   "name": "python3"
  },
  "language_info": {
   "codemirror_mode": {
    "name": "ipython",
    "version": 3
   },
   "file_extension": ".py",
   "mimetype": "text/x-python",
   "name": "python",
   "nbconvert_exporter": "python",
   "pygments_lexer": "ipython3",
   "version": "3.9.12"
  },
  "orig_nbformat": 4,
  "vscode": {
   "interpreter": {
    "hash": "964f46f3973c3d99dc6929d5bd1748275317def86f082ea2874e0d5a9cf6d261"
   }
  }
 },
 "nbformat": 4,
 "nbformat_minor": 2
}
